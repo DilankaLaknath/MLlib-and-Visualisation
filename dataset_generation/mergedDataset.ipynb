{
 "cells": [
  {
   "cell_type": "code",
   "execution_count": 20,
   "id": "539ff7f0",
   "metadata": {},
   "outputs": [],
   "source": [
    "import pandas as pd\n",
    "\n",
    "# Load the student dataset\n",
    "student_df = pd.read_csv('Student_dataset copy.csv')\n",
    "\n",
    "# Load the Mendeley dataset\n",
    "mendeley_df = pd.read_csv('Mendeley_dataset.csv')\n",
    "\n",
    "# Select the relevant columns from the Mendeley dataset\n",
    "mendeley_df = mendeley_df[['artist_name', 'track_name', 'release_date', 'genre', 'lyrics']]\n",
    "\n",
    "# Combine or join the two datasets using concat function\n",
    "merged_df = pd.concat([mendeley_df, student_df], ignore_index=True)\n",
    "\n",
    "# Save the merged dataset to a new csv file\n",
    "merged_df.to_csv('Merged_dataset_new.csv', index=False)\n"
   ]
  },
  {
   "cell_type": "code",
   "execution_count": 33,
   "id": "8e5eaa88",
   "metadata": {},
   "outputs": [
    {
     "name": "stdout",
     "output_type": "stream",
     "text": [
      "<class 'pandas.core.frame.DataFrame'>\n",
      "RangeIndex: 103 entries, 0 to 102\n",
      "Data columns (total 5 columns):\n",
      " #   Column        Non-Null Count  Dtype \n",
      "---  ------        --------------  ----- \n",
      " 0   artist_name   103 non-null    object\n",
      " 1   track_name    103 non-null    object\n",
      " 2   release_date  103 non-null    int64 \n",
      " 3   genre         103 non-null    object\n",
      " 4   lyrics        103 non-null    object\n",
      "dtypes: int64(1), object(4)\n",
      "memory usage: 4.1+ KB\n"
     ]
    }
   ],
   "source": [
    "student_df.head()\n",
    "student_df.info()"
   ]
  },
  {
   "cell_type": "code",
   "execution_count": 34,
   "id": "9a63d12c",
   "metadata": {},
   "outputs": [
    {
     "name": "stdout",
     "output_type": "stream",
     "text": [
      "<class 'pandas.core.frame.DataFrame'>\n",
      "RangeIndex: 28372 entries, 0 to 28371\n",
      "Data columns (total 5 columns):\n",
      " #   Column        Non-Null Count  Dtype \n",
      "---  ------        --------------  ----- \n",
      " 0   artist_name   28372 non-null  object\n",
      " 1   track_name    28372 non-null  object\n",
      " 2   release_date  28372 non-null  int64 \n",
      " 3   genre         28372 non-null  object\n",
      " 4   lyrics        28372 non-null  object\n",
      "dtypes: int64(1), object(4)\n",
      "memory usage: 1.1+ MB\n"
     ]
    }
   ],
   "source": [
    "mendeley_df.head()\n",
    "mendeley_df.info()"
   ]
  },
  {
   "cell_type": "code",
   "execution_count": 35,
   "id": "48d65c72",
   "metadata": {},
   "outputs": [
    {
     "name": "stdout",
     "output_type": "stream",
     "text": [
      "<class 'pandas.core.frame.DataFrame'>\n",
      "RangeIndex: 28475 entries, 0 to 28474\n",
      "Data columns (total 5 columns):\n",
      " #   Column        Non-Null Count  Dtype \n",
      "---  ------        --------------  ----- \n",
      " 0   artist_name   28475 non-null  object\n",
      " 1   track_name    28475 non-null  object\n",
      " 2   release_date  28475 non-null  int64 \n",
      " 3   genre         28475 non-null  object\n",
      " 4   lyrics        28475 non-null  object\n",
      "dtypes: int64(1), object(4)\n",
      "memory usage: 1.1+ MB\n"
     ]
    }
   ],
   "source": [
    "merged_df.head()\n",
    "merged_df.info()"
   ]
  },
  {
   "cell_type": "code",
   "execution_count": 12,
   "id": "31121b52",
   "metadata": {},
   "outputs": [],
   "source": [
    "import pandas as pd\n",
    "\n",
    "# Load the Mendeley dataset\n",
    "data = pd.read_csv('Merged_dataset.csv')"
   ]
  },
  {
   "cell_type": "code",
   "execution_count": 13,
   "id": "e10b4cb0",
   "metadata": {},
   "outputs": [
    {
     "name": "stdout",
     "output_type": "stream",
     "text": [
      "Number of missing or null values in 'lyrics' column:  0\n"
     ]
    }
   ],
   "source": [
    "missing_values = data['lyrics'].isnull().sum()\n",
    "print(\"Number of missing or null values in 'lyrics' column: \", missing_values)\n",
    "\n"
   ]
  },
  {
   "cell_type": "code",
   "execution_count": 14,
   "id": "2c64f876",
   "metadata": {},
   "outputs": [
    {
     "name": "stdout",
     "output_type": "stream",
     "text": [
      "Number of rows after dropping missing or null values in 'lyrics' column:  28471\n"
     ]
    }
   ],
   "source": [
    "# Drop rows with missing or null values in 'lyrics' column\n",
    "data.dropna(subset=['lyrics'], inplace=True)\n",
    "\n",
    "# Print number of rows remaining in the dataset\n",
    "print(\"Number of rows after dropping missing or null values in 'lyrics' column: \", len(data))"
   ]
  },
  {
   "cell_type": "code",
   "execution_count": 15,
   "id": "16012efa",
   "metadata": {},
   "outputs": [
    {
     "name": "stdout",
     "output_type": "stream",
     "text": [
      "Number of missing or null values in 'lyrics' column:  0\n"
     ]
    }
   ],
   "source": [
    "missing_values = data['lyrics'].isnull().sum()\n",
    "print(\"Number of missing or null values in 'lyrics' column: \", missing_values)"
   ]
  },
  {
   "cell_type": "code",
   "execution_count": 16,
   "id": "bd9454ef",
   "metadata": {},
   "outputs": [],
   "source": [
    "import re\n",
    "\n",
    "# Remove brackets and the text inside them from the lyrics column\n",
    "data['lyrics'] = data['lyrics'].apply(lambda x: re.sub(r'\\[[^\\]]*\\]', '', x))\n",
    "\n",
    "# Strip leading and trailing whitespace from the lyrics column\n",
    "data['lyrics'] = data['lyrics'].str.strip()\n"
   ]
  },
  {
   "cell_type": "code",
   "execution_count": 17,
   "id": "5ac84961",
   "metadata": {},
   "outputs": [],
   "source": [
    "import re\n",
    "\n",
    "# assuming your lyrics column is named 'lyrics'\n",
    "lyrics = data['lyrics']\n",
    "\n",
    "# replace multiple newlines and whitespaces with a single space character\n",
    "lyrics = lyrics.apply(lambda x: re.sub(r'[\\n\\s]+', ' ', x))\n",
    "\n",
    "# remove any leading or trailing whitespace\n",
    "lyrics = lyrics.str.strip()\n"
   ]
  },
  {
   "cell_type": "code",
   "execution_count": 18,
   "id": "70437bc5",
   "metadata": {},
   "outputs": [],
   "source": [
    "# Save the merged dataset to a new csv file\n",
    "data.to_csv('Merged_dataset_new.csv', index=False)"
   ]
  },
  {
   "cell_type": "code",
   "execution_count": null,
   "id": "094ef072",
   "metadata": {},
   "outputs": [],
   "source": []
  }
 ],
 "metadata": {
  "kernelspec": {
   "display_name": "Python 3 (ipykernel)",
   "language": "python",
   "name": "python3"
  },
  "language_info": {
   "codemirror_mode": {
    "name": "ipython",
    "version": 3
   },
   "file_extension": ".py",
   "mimetype": "text/x-python",
   "name": "python",
   "nbconvert_exporter": "python",
   "pygments_lexer": "ipython3",
   "version": "3.9.13"
  }
 },
 "nbformat": 4,
 "nbformat_minor": 5
}
