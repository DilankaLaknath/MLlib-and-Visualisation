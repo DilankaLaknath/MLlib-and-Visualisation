{
 "cells": [
  {
   "cell_type": "code",
   "execution_count": 46,
   "id": "539ff7f0",
   "metadata": {},
   "outputs": [],
   "source": [
    "import pandas as pd\n",
    "\n",
    "# Load the student dataset\n",
    "student_df = pd.read_csv('Student_dataset.csv')\n",
    "\n",
    "# Load the Mendeley dataset\n",
    "mendeley_df = pd.read_csv('Mendeley_dataset.csv')\n",
    "\n",
    "# Select the relevant columns from the Mendeley dataset\n",
    "mendeley_df = mendeley_df[['artist_name', 'track_name', 'release_date', 'genre', 'lyrics']]\n",
    "\n",
    "# Combine or join the two datasets using concat function\n",
    "merged_df = pd.concat([student_df, mendeley_df], ignore_index=True)\n",
    "\n",
    "# Save the merged dataset to a new csv file\n",
    "merged_df.to_csv('Merged_dataset_new.csv', index=False)\n"
   ]
  },
  {
   "cell_type": "code",
   "execution_count": 33,
   "id": "8e5eaa88",
   "metadata": {},
   "outputs": [
    {
     "name": "stdout",
     "output_type": "stream",
     "text": [
      "<class 'pandas.core.frame.DataFrame'>\n",
      "RangeIndex: 103 entries, 0 to 102\n",
      "Data columns (total 5 columns):\n",
      " #   Column        Non-Null Count  Dtype \n",
      "---  ------        --------------  ----- \n",
      " 0   artist_name   103 non-null    object\n",
      " 1   track_name    103 non-null    object\n",
      " 2   release_date  103 non-null    int64 \n",
      " 3   genre         103 non-null    object\n",
      " 4   lyrics        103 non-null    object\n",
      "dtypes: int64(1), object(4)\n",
      "memory usage: 4.1+ KB\n"
     ]
    }
   ],
   "source": [
    "student_df.head()\n",
    "student_df.info()"
   ]
  },
  {
   "cell_type": "code",
   "execution_count": 34,
   "id": "9a63d12c",
   "metadata": {},
   "outputs": [
    {
     "name": "stdout",
     "output_type": "stream",
     "text": [
      "<class 'pandas.core.frame.DataFrame'>\n",
      "RangeIndex: 28372 entries, 0 to 28371\n",
      "Data columns (total 5 columns):\n",
      " #   Column        Non-Null Count  Dtype \n",
      "---  ------        --------------  ----- \n",
      " 0   artist_name   28372 non-null  object\n",
      " 1   track_name    28372 non-null  object\n",
      " 2   release_date  28372 non-null  int64 \n",
      " 3   genre         28372 non-null  object\n",
      " 4   lyrics        28372 non-null  object\n",
      "dtypes: int64(1), object(4)\n",
      "memory usage: 1.1+ MB\n"
     ]
    }
   ],
   "source": [
    "mendeley_df.head()\n",
    "mendeley_df.info()"
   ]
  },
  {
   "cell_type": "code",
   "execution_count": 35,
   "id": "48d65c72",
   "metadata": {},
   "outputs": [
    {
     "name": "stdout",
     "output_type": "stream",
     "text": [
      "<class 'pandas.core.frame.DataFrame'>\n",
      "RangeIndex: 28475 entries, 0 to 28474\n",
      "Data columns (total 5 columns):\n",
      " #   Column        Non-Null Count  Dtype \n",
      "---  ------        --------------  ----- \n",
      " 0   artist_name   28475 non-null  object\n",
      " 1   track_name    28475 non-null  object\n",
      " 2   release_date  28475 non-null  int64 \n",
      " 3   genre         28475 non-null  object\n",
      " 4   lyrics        28475 non-null  object\n",
      "dtypes: int64(1), object(4)\n",
      "memory usage: 1.1+ MB\n"
     ]
    }
   ],
   "source": [
    "merged_df.head()\n",
    "merged_df.info()"
   ]
  }
 ],
 "metadata": {
  "kernelspec": {
   "display_name": "Python 3 (ipykernel)",
   "language": "python",
   "name": "python3"
  },
  "language_info": {
   "codemirror_mode": {
    "name": "ipython",
    "version": 3
   },
   "file_extension": ".py",
   "mimetype": "text/x-python",
   "name": "python",
   "nbconvert_exporter": "python",
   "pygments_lexer": "ipython3",
   "version": "3.9.13"
  }
 },
 "nbformat": 4,
 "nbformat_minor": 5
}
